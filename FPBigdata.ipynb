{
 "cells": [
  {
   "cell_type": "code",
   "execution_count": 3,
   "metadata": {
    "id": "JUSQFACS9IbP"
   },
   "outputs": [],
   "source": [
    "import pandas as pd\n",
    "import numpy as np\n",
    "import matplotlib.pyplot as plt\n",
    "import seaborn as sns"
   ]
  },
  {
   "cell_type": "code",
   "execution_count": 4,
   "metadata": {
    "colab": {
     "base_uri": "https://localhost:8080/",
     "height": 206
    },
    "id": "KtoxjNuK9Z1g",
    "outputId": "528fcec1-3d2b-4d31-c7ea-9a27872b6a8c",
    "scrolled": true
   },
   "outputs": [
    {
     "data": {
      "text/html": [
       "<div>\n",
       "<style scoped>\n",
       "    .dataframe tbody tr th:only-of-type {\n",
       "        vertical-align: middle;\n",
       "    }\n",
       "\n",
       "    .dataframe tbody tr th {\n",
       "        vertical-align: top;\n",
       "    }\n",
       "\n",
       "    .dataframe thead th {\n",
       "        text-align: right;\n",
       "    }\n",
       "</style>\n",
       "<table border=\"1\" class=\"dataframe\">\n",
       "  <thead>\n",
       "    <tr style=\"text-align: right;\">\n",
       "      <th></th>\n",
       "      <th>Date</th>\n",
       "      <th>Time</th>\n",
       "      <th>CO(GT)</th>\n",
       "      <th>PT08.S1(CO)</th>\n",
       "      <th>NMHC(GT)</th>\n",
       "      <th>C6H6(GT)</th>\n",
       "      <th>PT08.S2(NMHC)</th>\n",
       "      <th>NOx(GT)</th>\n",
       "      <th>PT08.S3(NOx)</th>\n",
       "      <th>NO2(GT)</th>\n",
       "      <th>PT08.S4(NO2)</th>\n",
       "      <th>PT08.S5(O3)</th>\n",
       "      <th>T</th>\n",
       "      <th>RH</th>\n",
       "      <th>AH</th>\n",
       "    </tr>\n",
       "  </thead>\n",
       "  <tbody>\n",
       "    <tr>\n",
       "      <th>0</th>\n",
       "      <td>10/03/2004</td>\n",
       "      <td>18:00</td>\n",
       "      <td>2.6</td>\n",
       "      <td>1360</td>\n",
       "      <td>150</td>\n",
       "      <td>11.9</td>\n",
       "      <td>1046</td>\n",
       "      <td>166</td>\n",
       "      <td>1056</td>\n",
       "      <td>113</td>\n",
       "      <td>1692</td>\n",
       "      <td>1268</td>\n",
       "      <td>13.6</td>\n",
       "      <td>48.9</td>\n",
       "      <td>0.7578</td>\n",
       "    </tr>\n",
       "    <tr>\n",
       "      <th>1</th>\n",
       "      <td>10/03/2004</td>\n",
       "      <td>19:00</td>\n",
       "      <td>2.0</td>\n",
       "      <td>1292</td>\n",
       "      <td>112</td>\n",
       "      <td>9.4</td>\n",
       "      <td>955</td>\n",
       "      <td>103</td>\n",
       "      <td>1174</td>\n",
       "      <td>92</td>\n",
       "      <td>1559</td>\n",
       "      <td>972</td>\n",
       "      <td>13.3</td>\n",
       "      <td>47.7</td>\n",
       "      <td>0.7255</td>\n",
       "    </tr>\n",
       "    <tr>\n",
       "      <th>2</th>\n",
       "      <td>10/03/2004</td>\n",
       "      <td>20:00</td>\n",
       "      <td>2.2</td>\n",
       "      <td>1402</td>\n",
       "      <td>88</td>\n",
       "      <td>9.0</td>\n",
       "      <td>939</td>\n",
       "      <td>131</td>\n",
       "      <td>1140</td>\n",
       "      <td>114</td>\n",
       "      <td>1555</td>\n",
       "      <td>1074</td>\n",
       "      <td>11.9</td>\n",
       "      <td>54.0</td>\n",
       "      <td>0.7502</td>\n",
       "    </tr>\n",
       "    <tr>\n",
       "      <th>3</th>\n",
       "      <td>10/03/2004</td>\n",
       "      <td>21:00</td>\n",
       "      <td>2.2</td>\n",
       "      <td>1376</td>\n",
       "      <td>80</td>\n",
       "      <td>9.2</td>\n",
       "      <td>948</td>\n",
       "      <td>172</td>\n",
       "      <td>1092</td>\n",
       "      <td>122</td>\n",
       "      <td>1584</td>\n",
       "      <td>1203</td>\n",
       "      <td>11.0</td>\n",
       "      <td>60.0</td>\n",
       "      <td>0.7867</td>\n",
       "    </tr>\n",
       "    <tr>\n",
       "      <th>4</th>\n",
       "      <td>10/03/2004</td>\n",
       "      <td>22:00</td>\n",
       "      <td>1.6</td>\n",
       "      <td>1272</td>\n",
       "      <td>51</td>\n",
       "      <td>6.5</td>\n",
       "      <td>836</td>\n",
       "      <td>131</td>\n",
       "      <td>1205</td>\n",
       "      <td>116</td>\n",
       "      <td>1490</td>\n",
       "      <td>1110</td>\n",
       "      <td>11.2</td>\n",
       "      <td>59.6</td>\n",
       "      <td>0.7888</td>\n",
       "    </tr>\n",
       "  </tbody>\n",
       "</table>\n",
       "</div>"
      ],
      "text/plain": [
       "         Date   Time  CO(GT)  PT08.S1(CO)  NMHC(GT)  C6H6(GT)  PT08.S2(NMHC)  \\\n",
       "0  10/03/2004  18:00     2.6         1360       150      11.9           1046   \n",
       "1  10/03/2004  19:00     2.0         1292       112       9.4            955   \n",
       "2  10/03/2004  20:00     2.2         1402        88       9.0            939   \n",
       "3  10/03/2004  21:00     2.2         1376        80       9.2            948   \n",
       "4  10/03/2004  22:00     1.6         1272        51       6.5            836   \n",
       "\n",
       "   NOx(GT)  PT08.S3(NOx)  NO2(GT)  PT08.S4(NO2)  PT08.S5(O3)     T    RH  \\\n",
       "0      166          1056      113          1692         1268  13.6  48.9   \n",
       "1      103          1174       92          1559          972  13.3  47.7   \n",
       "2      131          1140      114          1555         1074  11.9  54.0   \n",
       "3      172          1092      122          1584         1203  11.0  60.0   \n",
       "4      131          1205      116          1490         1110  11.2  59.6   \n",
       "\n",
       "       AH  \n",
       "0  0.7578  \n",
       "1  0.7255  \n",
       "2  0.7502  \n",
       "3  0.7867  \n",
       "4  0.7888  "
      ]
     },
     "execution_count": 4,
     "metadata": {},
     "output_type": "execute_result"
    }
   ],
   "source": [
    "df = pd.read_csv('AirQualityUCI.csv',sep = ';')\n",
    "df.head()"
   ]
  },
  {
   "cell_type": "code",
   "execution_count": 5,
   "metadata": {
    "colab": {
     "base_uri": "https://localhost:8080/"
    },
    "id": "gUYJ9lu6_IYY",
    "outputId": "620f35ea-2ae8-452f-9218-43e07ce28ad7"
   },
   "outputs": [
    {
     "name": "stdout",
     "output_type": "stream",
     "text": [
      "            Date   Time  CO(GT)  PT08.S1(CO)  NMHC(GT)  C6H6(GT)  \\\n",
      "0     10/03/2004  18:00     2.6         1360       150      11.9   \n",
      "1     10/03/2004  19:00     2.0         1292       112       9.4   \n",
      "2     10/03/2004  20:00     2.2         1402        88       9.0   \n",
      "3     10/03/2004  21:00     2.2         1376        80       9.2   \n",
      "4     10/03/2004  22:00     1.6         1272        51       6.5   \n",
      "...          ...    ...     ...          ...       ...       ...   \n",
      "9352  04/04/2005  10:00     3.1         1314      -200      13.5   \n",
      "9353  04/04/2005  11:00     2.4         1163      -200      11.4   \n",
      "9354  04/04/2005  12:00     2.4         1142      -200      12.4   \n",
      "9355  04/04/2005  13:00     2.1         1003      -200       9.5   \n",
      "9356  04/04/2005  14:00     2.2         1071      -200      11.9   \n",
      "\n",
      "      PT08.S2(NMHC)  NOx(GT)  PT08.S3(NOx)  NO2(GT)  PT08.S4(NO2)  \\\n",
      "0              1046      166          1056      113          1692   \n",
      "1               955      103          1174       92          1559   \n",
      "2               939      131          1140      114          1555   \n",
      "3               948      172          1092      122          1584   \n",
      "4               836      131          1205      116          1490   \n",
      "...             ...      ...           ...      ...           ...   \n",
      "9352           1101      472           539      190          1374   \n",
      "9353           1027      353           604      179          1264   \n",
      "9354           1063      293           603      175          1241   \n",
      "9355            961      235           702      156          1041   \n",
      "9356           1047      265           654      168          1129   \n",
      "\n",
      "      PT08.S5(O3)     T    RH      AH  \n",
      "0            1268  13.6  48.9  0.7578  \n",
      "1             972  13.3  47.7  0.7255  \n",
      "2            1074  11.9  54.0  0.7502  \n",
      "3            1203  11.0  60.0  0.7867  \n",
      "4            1110  11.2  59.6  0.7888  \n",
      "...           ...   ...   ...     ...  \n",
      "9352         1729  21.9  29.3  0.7568  \n",
      "9353         1269  24.3  23.7  0.7119  \n",
      "9354         1092  26.9  18.3  0.6406  \n",
      "9355          770  28.3  13.5  0.5139  \n",
      "9356          816  28.5  13.1  0.5028  \n",
      "\n",
      "[9357 rows x 15 columns]\n"
     ]
    }
   ],
   "source": [
    "print(df)"
   ]
  },
  {
   "cell_type": "code",
   "execution_count": 6,
   "metadata": {
    "colab": {
     "base_uri": "https://localhost:8080/",
     "height": 354
    },
    "id": "f9bFRxxs-Z3X",
    "outputId": "c68cc022-ea81-4a88-a80e-5f504de6c7c2"
   },
   "outputs": [
    {
     "data": {
      "text/html": [
       "<div>\n",
       "<style scoped>\n",
       "    .dataframe tbody tr th:only-of-type {\n",
       "        vertical-align: middle;\n",
       "    }\n",
       "\n",
       "    .dataframe tbody tr th {\n",
       "        vertical-align: top;\n",
       "    }\n",
       "\n",
       "    .dataframe thead th {\n",
       "        text-align: right;\n",
       "    }\n",
       "</style>\n",
       "<table border=\"1\" class=\"dataframe\">\n",
       "  <thead>\n",
       "    <tr style=\"text-align: right;\">\n",
       "      <th></th>\n",
       "      <th>Date</th>\n",
       "      <th>Time</th>\n",
       "      <th>CO(GT)</th>\n",
       "      <th>PT08.S1(CO)</th>\n",
       "      <th>NMHC(GT)</th>\n",
       "      <th>C6H6(GT)</th>\n",
       "      <th>PT08.S2(NMHC)</th>\n",
       "      <th>NOx(GT)</th>\n",
       "      <th>PT08.S3(NOx)</th>\n",
       "      <th>NO2(GT)</th>\n",
       "      <th>PT08.S4(NO2)</th>\n",
       "      <th>PT08.S5(O3)</th>\n",
       "      <th>T</th>\n",
       "      <th>RH</th>\n",
       "      <th>AH</th>\n",
       "    </tr>\n",
       "  </thead>\n",
       "  <tbody>\n",
       "    <tr>\n",
       "      <th>9352</th>\n",
       "      <td>04/04/2005</td>\n",
       "      <td>10:00</td>\n",
       "      <td>3.1</td>\n",
       "      <td>1314</td>\n",
       "      <td>-200</td>\n",
       "      <td>13.5</td>\n",
       "      <td>1101</td>\n",
       "      <td>472</td>\n",
       "      <td>539</td>\n",
       "      <td>190</td>\n",
       "      <td>1374</td>\n",
       "      <td>1729</td>\n",
       "      <td>21.9</td>\n",
       "      <td>29.3</td>\n",
       "      <td>0.7568</td>\n",
       "    </tr>\n",
       "    <tr>\n",
       "      <th>9353</th>\n",
       "      <td>04/04/2005</td>\n",
       "      <td>11:00</td>\n",
       "      <td>2.4</td>\n",
       "      <td>1163</td>\n",
       "      <td>-200</td>\n",
       "      <td>11.4</td>\n",
       "      <td>1027</td>\n",
       "      <td>353</td>\n",
       "      <td>604</td>\n",
       "      <td>179</td>\n",
       "      <td>1264</td>\n",
       "      <td>1269</td>\n",
       "      <td>24.3</td>\n",
       "      <td>23.7</td>\n",
       "      <td>0.7119</td>\n",
       "    </tr>\n",
       "    <tr>\n",
       "      <th>9354</th>\n",
       "      <td>04/04/2005</td>\n",
       "      <td>12:00</td>\n",
       "      <td>2.4</td>\n",
       "      <td>1142</td>\n",
       "      <td>-200</td>\n",
       "      <td>12.4</td>\n",
       "      <td>1063</td>\n",
       "      <td>293</td>\n",
       "      <td>603</td>\n",
       "      <td>175</td>\n",
       "      <td>1241</td>\n",
       "      <td>1092</td>\n",
       "      <td>26.9</td>\n",
       "      <td>18.3</td>\n",
       "      <td>0.6406</td>\n",
       "    </tr>\n",
       "    <tr>\n",
       "      <th>9355</th>\n",
       "      <td>04/04/2005</td>\n",
       "      <td>13:00</td>\n",
       "      <td>2.1</td>\n",
       "      <td>1003</td>\n",
       "      <td>-200</td>\n",
       "      <td>9.5</td>\n",
       "      <td>961</td>\n",
       "      <td>235</td>\n",
       "      <td>702</td>\n",
       "      <td>156</td>\n",
       "      <td>1041</td>\n",
       "      <td>770</td>\n",
       "      <td>28.3</td>\n",
       "      <td>13.5</td>\n",
       "      <td>0.5139</td>\n",
       "    </tr>\n",
       "    <tr>\n",
       "      <th>9356</th>\n",
       "      <td>04/04/2005</td>\n",
       "      <td>14:00</td>\n",
       "      <td>2.2</td>\n",
       "      <td>1071</td>\n",
       "      <td>-200</td>\n",
       "      <td>11.9</td>\n",
       "      <td>1047</td>\n",
       "      <td>265</td>\n",
       "      <td>654</td>\n",
       "      <td>168</td>\n",
       "      <td>1129</td>\n",
       "      <td>816</td>\n",
       "      <td>28.5</td>\n",
       "      <td>13.1</td>\n",
       "      <td>0.5028</td>\n",
       "    </tr>\n",
       "  </tbody>\n",
       "</table>\n",
       "</div>"
      ],
      "text/plain": [
       "            Date   Time  CO(GT)  PT08.S1(CO)  NMHC(GT)  C6H6(GT)  \\\n",
       "9352  04/04/2005  10:00     3.1         1314      -200      13.5   \n",
       "9353  04/04/2005  11:00     2.4         1163      -200      11.4   \n",
       "9354  04/04/2005  12:00     2.4         1142      -200      12.4   \n",
       "9355  04/04/2005  13:00     2.1         1003      -200       9.5   \n",
       "9356  04/04/2005  14:00     2.2         1071      -200      11.9   \n",
       "\n",
       "      PT08.S2(NMHC)  NOx(GT)  PT08.S3(NOx)  NO2(GT)  PT08.S4(NO2)  \\\n",
       "9352           1101      472           539      190          1374   \n",
       "9353           1027      353           604      179          1264   \n",
       "9354           1063      293           603      175          1241   \n",
       "9355            961      235           702      156          1041   \n",
       "9356           1047      265           654      168          1129   \n",
       "\n",
       "      PT08.S5(O3)     T    RH      AH  \n",
       "9352         1729  21.9  29.3  0.7568  \n",
       "9353         1269  24.3  23.7  0.7119  \n",
       "9354         1092  26.9  18.3  0.6406  \n",
       "9355          770  28.3  13.5  0.5139  \n",
       "9356          816  28.5  13.1  0.5028  "
      ]
     },
     "execution_count": 6,
     "metadata": {},
     "output_type": "execute_result"
    }
   ],
   "source": [
    "df.tail()"
   ]
  },
  {
   "cell_type": "code",
   "execution_count": 7,
   "metadata": {
    "colab": {
     "base_uri": "https://localhost:8080/"
    },
    "id": "KzwMdqYt-dmx",
    "outputId": "823053ba-1a81-473b-8896-45e89857c94f"
   },
   "outputs": [
    {
     "data": {
      "text/plain": [
       "(9357, 15)"
      ]
     },
     "execution_count": 7,
     "metadata": {},
     "output_type": "execute_result"
    }
   ],
   "source": [
    "df.shape"
   ]
  },
  {
   "cell_type": "code",
   "execution_count": 8,
   "metadata": {
    "colab": {
     "base_uri": "https://localhost:8080/"
    },
    "id": "0iyj6UWp-gvO",
    "outputId": "9d6133f4-40c3-4cec-a6cd-52247d912145"
   },
   "outputs": [
    {
     "data": {
      "text/plain": [
       "9357"
      ]
     },
     "execution_count": 8,
     "metadata": {},
     "output_type": "execute_result"
    }
   ],
   "source": [
    "df.shape[0]"
   ]
  },
  {
   "cell_type": "code",
   "execution_count": 9,
   "metadata": {
    "colab": {
     "base_uri": "https://localhost:8080/"
    },
    "id": "buAwXjis-iyb",
    "outputId": "f97eed8e-9c1b-4189-ea17-f419b27dd468"
   },
   "outputs": [
    {
     "data": {
      "text/plain": [
       "Date              object\n",
       "Time              object\n",
       "CO(GT)           float64\n",
       "PT08.S1(CO)        int64\n",
       "NMHC(GT)           int64\n",
       "C6H6(GT)         float64\n",
       "PT08.S2(NMHC)      int64\n",
       "NOx(GT)            int64\n",
       "PT08.S3(NOx)       int64\n",
       "NO2(GT)            int64\n",
       "PT08.S4(NO2)       int64\n",
       "PT08.S5(O3)        int64\n",
       "T                float64\n",
       "RH               float64\n",
       "AH               float64\n",
       "dtype: object"
      ]
     },
     "execution_count": 9,
     "metadata": {},
     "output_type": "execute_result"
    }
   ],
   "source": [
    "df.dtypes"
   ]
  },
  {
   "cell_type": "code",
   "execution_count": 10,
   "metadata": {
    "colab": {
     "base_uri": "https://localhost:8080/"
    },
    "id": "NM8LmkKQ-m1v",
    "outputId": "b8b98762-0a9c-4616-a16e-42bdde00824f"
   },
   "outputs": [
    {
     "data": {
      "text/plain": [
       "Date             9357\n",
       "Time             9357\n",
       "CO(GT)           9357\n",
       "PT08.S1(CO)      9357\n",
       "NMHC(GT)         9357\n",
       "C6H6(GT)         9357\n",
       "PT08.S2(NMHC)    9357\n",
       "NOx(GT)          9357\n",
       "PT08.S3(NOx)     9357\n",
       "NO2(GT)          9357\n",
       "PT08.S4(NO2)     9357\n",
       "PT08.S5(O3)      9357\n",
       "T                9357\n",
       "RH               9357\n",
       "AH               9357\n",
       "dtype: int64"
      ]
     },
     "execution_count": 10,
     "metadata": {},
     "output_type": "execute_result"
    }
   ],
   "source": [
    "df.count()"
   ]
  },
  {
   "cell_type": "code",
   "execution_count": 11,
   "metadata": {
    "colab": {
     "base_uri": "https://localhost:8080/",
     "height": 323
    },
    "id": "2MOS9UBJ-qA2",
    "outputId": "f00d6e7f-0589-47b6-dc00-13f7360b6e23"
   },
   "outputs": [
    {
     "data": {
      "text/html": [
       "<div>\n",
       "<style scoped>\n",
       "    .dataframe tbody tr th:only-of-type {\n",
       "        vertical-align: middle;\n",
       "    }\n",
       "\n",
       "    .dataframe tbody tr th {\n",
       "        vertical-align: top;\n",
       "    }\n",
       "\n",
       "    .dataframe thead th {\n",
       "        text-align: right;\n",
       "    }\n",
       "</style>\n",
       "<table border=\"1\" class=\"dataframe\">\n",
       "  <thead>\n",
       "    <tr style=\"text-align: right;\">\n",
       "      <th></th>\n",
       "      <th>CO(GT)</th>\n",
       "      <th>PT08.S1(CO)</th>\n",
       "      <th>NMHC(GT)</th>\n",
       "      <th>C6H6(GT)</th>\n",
       "      <th>PT08.S2(NMHC)</th>\n",
       "      <th>NOx(GT)</th>\n",
       "      <th>PT08.S3(NOx)</th>\n",
       "      <th>NO2(GT)</th>\n",
       "      <th>PT08.S4(NO2)</th>\n",
       "      <th>PT08.S5(O3)</th>\n",
       "      <th>T</th>\n",
       "      <th>RH</th>\n",
       "      <th>AH</th>\n",
       "    </tr>\n",
       "  </thead>\n",
       "  <tbody>\n",
       "    <tr>\n",
       "      <th>count</th>\n",
       "      <td>9357.000000</td>\n",
       "      <td>9357.000000</td>\n",
       "      <td>9357.000000</td>\n",
       "      <td>9357.000000</td>\n",
       "      <td>9357.000000</td>\n",
       "      <td>9357.000000</td>\n",
       "      <td>9357.000000</td>\n",
       "      <td>9357.000000</td>\n",
       "      <td>9357.000000</td>\n",
       "      <td>9357.000000</td>\n",
       "      <td>9357.000000</td>\n",
       "      <td>9357.000000</td>\n",
       "      <td>9357.000000</td>\n",
       "    </tr>\n",
       "    <tr>\n",
       "      <th>mean</th>\n",
       "      <td>-34.207524</td>\n",
       "      <td>1048.990061</td>\n",
       "      <td>-159.090093</td>\n",
       "      <td>1.865683</td>\n",
       "      <td>894.595276</td>\n",
       "      <td>168.616971</td>\n",
       "      <td>794.990168</td>\n",
       "      <td>58.148873</td>\n",
       "      <td>1391.479641</td>\n",
       "      <td>975.072032</td>\n",
       "      <td>9.778305</td>\n",
       "      <td>39.485380</td>\n",
       "      <td>-6.837604</td>\n",
       "    </tr>\n",
       "    <tr>\n",
       "      <th>std</th>\n",
       "      <td>77.657170</td>\n",
       "      <td>329.832710</td>\n",
       "      <td>139.789093</td>\n",
       "      <td>41.380206</td>\n",
       "      <td>342.333252</td>\n",
       "      <td>257.433866</td>\n",
       "      <td>321.993552</td>\n",
       "      <td>126.940455</td>\n",
       "      <td>467.210125</td>\n",
       "      <td>456.938184</td>\n",
       "      <td>43.203623</td>\n",
       "      <td>51.216145</td>\n",
       "      <td>38.976670</td>\n",
       "    </tr>\n",
       "    <tr>\n",
       "      <th>min</th>\n",
       "      <td>-200.000000</td>\n",
       "      <td>-200.000000</td>\n",
       "      <td>-200.000000</td>\n",
       "      <td>-200.000000</td>\n",
       "      <td>-200.000000</td>\n",
       "      <td>-200.000000</td>\n",
       "      <td>-200.000000</td>\n",
       "      <td>-200.000000</td>\n",
       "      <td>-200.000000</td>\n",
       "      <td>-200.000000</td>\n",
       "      <td>-200.000000</td>\n",
       "      <td>-200.000000</td>\n",
       "      <td>-200.000000</td>\n",
       "    </tr>\n",
       "    <tr>\n",
       "      <th>25%</th>\n",
       "      <td>0.600000</td>\n",
       "      <td>921.000000</td>\n",
       "      <td>-200.000000</td>\n",
       "      <td>4.000000</td>\n",
       "      <td>711.000000</td>\n",
       "      <td>50.000000</td>\n",
       "      <td>637.000000</td>\n",
       "      <td>53.000000</td>\n",
       "      <td>1185.000000</td>\n",
       "      <td>700.000000</td>\n",
       "      <td>10.900000</td>\n",
       "      <td>34.100000</td>\n",
       "      <td>0.692300</td>\n",
       "    </tr>\n",
       "    <tr>\n",
       "      <th>50%</th>\n",
       "      <td>1.500000</td>\n",
       "      <td>1053.000000</td>\n",
       "      <td>-200.000000</td>\n",
       "      <td>7.900000</td>\n",
       "      <td>895.000000</td>\n",
       "      <td>141.000000</td>\n",
       "      <td>794.000000</td>\n",
       "      <td>96.000000</td>\n",
       "      <td>1446.000000</td>\n",
       "      <td>942.000000</td>\n",
       "      <td>17.200000</td>\n",
       "      <td>48.600000</td>\n",
       "      <td>0.976800</td>\n",
       "    </tr>\n",
       "    <tr>\n",
       "      <th>75%</th>\n",
       "      <td>2.600000</td>\n",
       "      <td>1221.000000</td>\n",
       "      <td>-200.000000</td>\n",
       "      <td>13.600000</td>\n",
       "      <td>1105.000000</td>\n",
       "      <td>284.000000</td>\n",
       "      <td>960.000000</td>\n",
       "      <td>133.000000</td>\n",
       "      <td>1662.000000</td>\n",
       "      <td>1255.000000</td>\n",
       "      <td>24.100000</td>\n",
       "      <td>61.900000</td>\n",
       "      <td>1.296200</td>\n",
       "    </tr>\n",
       "    <tr>\n",
       "      <th>max</th>\n",
       "      <td>11.900000</td>\n",
       "      <td>2040.000000</td>\n",
       "      <td>1189.000000</td>\n",
       "      <td>63.700000</td>\n",
       "      <td>2214.000000</td>\n",
       "      <td>1479.000000</td>\n",
       "      <td>2683.000000</td>\n",
       "      <td>340.000000</td>\n",
       "      <td>2775.000000</td>\n",
       "      <td>2523.000000</td>\n",
       "      <td>44.600000</td>\n",
       "      <td>88.700000</td>\n",
       "      <td>2.231000</td>\n",
       "    </tr>\n",
       "  </tbody>\n",
       "</table>\n",
       "</div>"
      ],
      "text/plain": [
       "            CO(GT)  PT08.S1(CO)     NMHC(GT)     C6H6(GT)  PT08.S2(NMHC)  \\\n",
       "count  9357.000000  9357.000000  9357.000000  9357.000000    9357.000000   \n",
       "mean    -34.207524  1048.990061  -159.090093     1.865683     894.595276   \n",
       "std      77.657170   329.832710   139.789093    41.380206     342.333252   \n",
       "min    -200.000000  -200.000000  -200.000000  -200.000000    -200.000000   \n",
       "25%       0.600000   921.000000  -200.000000     4.000000     711.000000   \n",
       "50%       1.500000  1053.000000  -200.000000     7.900000     895.000000   \n",
       "75%       2.600000  1221.000000  -200.000000    13.600000    1105.000000   \n",
       "max      11.900000  2040.000000  1189.000000    63.700000    2214.000000   \n",
       "\n",
       "           NOx(GT)  PT08.S3(NOx)      NO2(GT)  PT08.S4(NO2)  PT08.S5(O3)  \\\n",
       "count  9357.000000   9357.000000  9357.000000   9357.000000  9357.000000   \n",
       "mean    168.616971    794.990168    58.148873   1391.479641   975.072032   \n",
       "std     257.433866    321.993552   126.940455    467.210125   456.938184   \n",
       "min    -200.000000   -200.000000  -200.000000   -200.000000  -200.000000   \n",
       "25%      50.000000    637.000000    53.000000   1185.000000   700.000000   \n",
       "50%     141.000000    794.000000    96.000000   1446.000000   942.000000   \n",
       "75%     284.000000    960.000000   133.000000   1662.000000  1255.000000   \n",
       "max    1479.000000   2683.000000   340.000000   2775.000000  2523.000000   \n",
       "\n",
       "                 T           RH           AH  \n",
       "count  9357.000000  9357.000000  9357.000000  \n",
       "mean      9.778305    39.485380    -6.837604  \n",
       "std      43.203623    51.216145    38.976670  \n",
       "min    -200.000000  -200.000000  -200.000000  \n",
       "25%      10.900000    34.100000     0.692300  \n",
       "50%      17.200000    48.600000     0.976800  \n",
       "75%      24.100000    61.900000     1.296200  \n",
       "max      44.600000    88.700000     2.231000  "
      ]
     },
     "execution_count": 11,
     "metadata": {},
     "output_type": "execute_result"
    }
   ],
   "source": [
    "df.describe()"
   ]
  },
  {
   "cell_type": "code",
   "execution_count": 12,
   "metadata": {
    "colab": {
     "base_uri": "https://localhost:8080/",
     "height": 323
    },
    "id": "5Q4_kzcd-sUo",
    "outputId": "11d678cd-8030-4510-ce82-fede7dc83626"
   },
   "outputs": [
    {
     "data": {
      "text/html": [
       "<div>\n",
       "<style scoped>\n",
       "    .dataframe tbody tr th:only-of-type {\n",
       "        vertical-align: middle;\n",
       "    }\n",
       "\n",
       "    .dataframe tbody tr th {\n",
       "        vertical-align: top;\n",
       "    }\n",
       "\n",
       "    .dataframe thead th {\n",
       "        text-align: right;\n",
       "    }\n",
       "</style>\n",
       "<table border=\"1\" class=\"dataframe\">\n",
       "  <thead>\n",
       "    <tr style=\"text-align: right;\">\n",
       "      <th></th>\n",
       "      <th>Date</th>\n",
       "      <th>Time</th>\n",
       "      <th>CO(GT)</th>\n",
       "      <th>PT08.S1(CO)</th>\n",
       "      <th>NMHC(GT)</th>\n",
       "      <th>C6H6(GT)</th>\n",
       "      <th>PT08.S2(NMHC)</th>\n",
       "      <th>NOx(GT)</th>\n",
       "      <th>PT08.S3(NOx)</th>\n",
       "      <th>NO2(GT)</th>\n",
       "      <th>PT08.S4(NO2)</th>\n",
       "      <th>PT08.S5(O3)</th>\n",
       "      <th>T</th>\n",
       "      <th>RH</th>\n",
       "      <th>AH</th>\n",
       "    </tr>\n",
       "  </thead>\n",
       "  <tbody>\n",
       "    <tr>\n",
       "      <th>count</th>\n",
       "      <td>9357</td>\n",
       "      <td>9357</td>\n",
       "      <td>9357.000000</td>\n",
       "      <td>9357.000000</td>\n",
       "      <td>9357.000000</td>\n",
       "      <td>9357.000000</td>\n",
       "      <td>9357.000000</td>\n",
       "      <td>9357.000000</td>\n",
       "      <td>9357.000000</td>\n",
       "      <td>9357.000000</td>\n",
       "      <td>9357.000000</td>\n",
       "      <td>9357.000000</td>\n",
       "      <td>9357.000000</td>\n",
       "      <td>9357.000000</td>\n",
       "      <td>9357.000000</td>\n",
       "    </tr>\n",
       "    <tr>\n",
       "      <th>unique</th>\n",
       "      <td>391</td>\n",
       "      <td>24</td>\n",
       "      <td>NaN</td>\n",
       "      <td>NaN</td>\n",
       "      <td>NaN</td>\n",
       "      <td>NaN</td>\n",
       "      <td>NaN</td>\n",
       "      <td>NaN</td>\n",
       "      <td>NaN</td>\n",
       "      <td>NaN</td>\n",
       "      <td>NaN</td>\n",
       "      <td>NaN</td>\n",
       "      <td>NaN</td>\n",
       "      <td>NaN</td>\n",
       "      <td>NaN</td>\n",
       "    </tr>\n",
       "    <tr>\n",
       "      <th>top</th>\n",
       "      <td>21/09/2004</td>\n",
       "      <td>18:00</td>\n",
       "      <td>NaN</td>\n",
       "      <td>NaN</td>\n",
       "      <td>NaN</td>\n",
       "      <td>NaN</td>\n",
       "      <td>NaN</td>\n",
       "      <td>NaN</td>\n",
       "      <td>NaN</td>\n",
       "      <td>NaN</td>\n",
       "      <td>NaN</td>\n",
       "      <td>NaN</td>\n",
       "      <td>NaN</td>\n",
       "      <td>NaN</td>\n",
       "      <td>NaN</td>\n",
       "    </tr>\n",
       "    <tr>\n",
       "      <th>freq</th>\n",
       "      <td>24</td>\n",
       "      <td>390</td>\n",
       "      <td>NaN</td>\n",
       "      <td>NaN</td>\n",
       "      <td>NaN</td>\n",
       "      <td>NaN</td>\n",
       "      <td>NaN</td>\n",
       "      <td>NaN</td>\n",
       "      <td>NaN</td>\n",
       "      <td>NaN</td>\n",
       "      <td>NaN</td>\n",
       "      <td>NaN</td>\n",
       "      <td>NaN</td>\n",
       "      <td>NaN</td>\n",
       "      <td>NaN</td>\n",
       "    </tr>\n",
       "    <tr>\n",
       "      <th>mean</th>\n",
       "      <td>NaN</td>\n",
       "      <td>NaN</td>\n",
       "      <td>-34.207524</td>\n",
       "      <td>1048.990061</td>\n",
       "      <td>-159.090093</td>\n",
       "      <td>1.865683</td>\n",
       "      <td>894.595276</td>\n",
       "      <td>168.616971</td>\n",
       "      <td>794.990168</td>\n",
       "      <td>58.148873</td>\n",
       "      <td>1391.479641</td>\n",
       "      <td>975.072032</td>\n",
       "      <td>9.778305</td>\n",
       "      <td>39.485380</td>\n",
       "      <td>-6.837604</td>\n",
       "    </tr>\n",
       "    <tr>\n",
       "      <th>std</th>\n",
       "      <td>NaN</td>\n",
       "      <td>NaN</td>\n",
       "      <td>77.657170</td>\n",
       "      <td>329.832710</td>\n",
       "      <td>139.789093</td>\n",
       "      <td>41.380206</td>\n",
       "      <td>342.333252</td>\n",
       "      <td>257.433866</td>\n",
       "      <td>321.993552</td>\n",
       "      <td>126.940455</td>\n",
       "      <td>467.210125</td>\n",
       "      <td>456.938184</td>\n",
       "      <td>43.203623</td>\n",
       "      <td>51.216145</td>\n",
       "      <td>38.976670</td>\n",
       "    </tr>\n",
       "    <tr>\n",
       "      <th>min</th>\n",
       "      <td>NaN</td>\n",
       "      <td>NaN</td>\n",
       "      <td>-200.000000</td>\n",
       "      <td>-200.000000</td>\n",
       "      <td>-200.000000</td>\n",
       "      <td>-200.000000</td>\n",
       "      <td>-200.000000</td>\n",
       "      <td>-200.000000</td>\n",
       "      <td>-200.000000</td>\n",
       "      <td>-200.000000</td>\n",
       "      <td>-200.000000</td>\n",
       "      <td>-200.000000</td>\n",
       "      <td>-200.000000</td>\n",
       "      <td>-200.000000</td>\n",
       "      <td>-200.000000</td>\n",
       "    </tr>\n",
       "    <tr>\n",
       "      <th>25%</th>\n",
       "      <td>NaN</td>\n",
       "      <td>NaN</td>\n",
       "      <td>0.600000</td>\n",
       "      <td>921.000000</td>\n",
       "      <td>-200.000000</td>\n",
       "      <td>4.000000</td>\n",
       "      <td>711.000000</td>\n",
       "      <td>50.000000</td>\n",
       "      <td>637.000000</td>\n",
       "      <td>53.000000</td>\n",
       "      <td>1185.000000</td>\n",
       "      <td>700.000000</td>\n",
       "      <td>10.900000</td>\n",
       "      <td>34.100000</td>\n",
       "      <td>0.692300</td>\n",
       "    </tr>\n",
       "    <tr>\n",
       "      <th>50%</th>\n",
       "      <td>NaN</td>\n",
       "      <td>NaN</td>\n",
       "      <td>1.500000</td>\n",
       "      <td>1053.000000</td>\n",
       "      <td>-200.000000</td>\n",
       "      <td>7.900000</td>\n",
       "      <td>895.000000</td>\n",
       "      <td>141.000000</td>\n",
       "      <td>794.000000</td>\n",
       "      <td>96.000000</td>\n",
       "      <td>1446.000000</td>\n",
       "      <td>942.000000</td>\n",
       "      <td>17.200000</td>\n",
       "      <td>48.600000</td>\n",
       "      <td>0.976800</td>\n",
       "    </tr>\n",
       "    <tr>\n",
       "      <th>75%</th>\n",
       "      <td>NaN</td>\n",
       "      <td>NaN</td>\n",
       "      <td>2.600000</td>\n",
       "      <td>1221.000000</td>\n",
       "      <td>-200.000000</td>\n",
       "      <td>13.600000</td>\n",
       "      <td>1105.000000</td>\n",
       "      <td>284.000000</td>\n",
       "      <td>960.000000</td>\n",
       "      <td>133.000000</td>\n",
       "      <td>1662.000000</td>\n",
       "      <td>1255.000000</td>\n",
       "      <td>24.100000</td>\n",
       "      <td>61.900000</td>\n",
       "      <td>1.296200</td>\n",
       "    </tr>\n",
       "    <tr>\n",
       "      <th>max</th>\n",
       "      <td>NaN</td>\n",
       "      <td>NaN</td>\n",
       "      <td>11.900000</td>\n",
       "      <td>2040.000000</td>\n",
       "      <td>1189.000000</td>\n",
       "      <td>63.700000</td>\n",
       "      <td>2214.000000</td>\n",
       "      <td>1479.000000</td>\n",
       "      <td>2683.000000</td>\n",
       "      <td>340.000000</td>\n",
       "      <td>2775.000000</td>\n",
       "      <td>2523.000000</td>\n",
       "      <td>44.600000</td>\n",
       "      <td>88.700000</td>\n",
       "      <td>2.231000</td>\n",
       "    </tr>\n",
       "  </tbody>\n",
       "</table>\n",
       "</div>"
      ],
      "text/plain": [
       "              Date   Time       CO(GT)  PT08.S1(CO)     NMHC(GT)     C6H6(GT)  \\\n",
       "count         9357   9357  9357.000000  9357.000000  9357.000000  9357.000000   \n",
       "unique         391     24          NaN          NaN          NaN          NaN   \n",
       "top     21/09/2004  18:00          NaN          NaN          NaN          NaN   \n",
       "freq            24    390          NaN          NaN          NaN          NaN   \n",
       "mean           NaN    NaN   -34.207524  1048.990061  -159.090093     1.865683   \n",
       "std            NaN    NaN    77.657170   329.832710   139.789093    41.380206   \n",
       "min            NaN    NaN  -200.000000  -200.000000  -200.000000  -200.000000   \n",
       "25%            NaN    NaN     0.600000   921.000000  -200.000000     4.000000   \n",
       "50%            NaN    NaN     1.500000  1053.000000  -200.000000     7.900000   \n",
       "75%            NaN    NaN     2.600000  1221.000000  -200.000000    13.600000   \n",
       "max            NaN    NaN    11.900000  2040.000000  1189.000000    63.700000   \n",
       "\n",
       "        PT08.S2(NMHC)      NOx(GT)  PT08.S3(NOx)      NO2(GT)  PT08.S4(NO2)  \\\n",
       "count     9357.000000  9357.000000   9357.000000  9357.000000   9357.000000   \n",
       "unique            NaN          NaN           NaN          NaN           NaN   \n",
       "top               NaN          NaN           NaN          NaN           NaN   \n",
       "freq              NaN          NaN           NaN          NaN           NaN   \n",
       "mean       894.595276   168.616971    794.990168    58.148873   1391.479641   \n",
       "std        342.333252   257.433866    321.993552   126.940455    467.210125   \n",
       "min       -200.000000  -200.000000   -200.000000  -200.000000   -200.000000   \n",
       "25%        711.000000    50.000000    637.000000    53.000000   1185.000000   \n",
       "50%        895.000000   141.000000    794.000000    96.000000   1446.000000   \n",
       "75%       1105.000000   284.000000    960.000000   133.000000   1662.000000   \n",
       "max       2214.000000  1479.000000   2683.000000   340.000000   2775.000000   \n",
       "\n",
       "        PT08.S5(O3)            T           RH           AH  \n",
       "count   9357.000000  9357.000000  9357.000000  9357.000000  \n",
       "unique          NaN          NaN          NaN          NaN  \n",
       "top             NaN          NaN          NaN          NaN  \n",
       "freq            NaN          NaN          NaN          NaN  \n",
       "mean     975.072032     9.778305    39.485380    -6.837604  \n",
       "std      456.938184    43.203623    51.216145    38.976670  \n",
       "min     -200.000000  -200.000000  -200.000000  -200.000000  \n",
       "25%      700.000000    10.900000    34.100000     0.692300  \n",
       "50%      942.000000    17.200000    48.600000     0.976800  \n",
       "75%     1255.000000    24.100000    61.900000     1.296200  \n",
       "max     2523.000000    44.600000    88.700000     2.231000  "
      ]
     },
     "execution_count": 12,
     "metadata": {},
     "output_type": "execute_result"
    }
   ],
   "source": [
    "df.describe(include = 'all')"
   ]
  },
  {
   "cell_type": "code",
   "execution_count": 13,
   "metadata": {
    "colab": {
     "base_uri": "https://localhost:8080/"
    },
    "id": "SfDIMg-3-ujI",
    "outputId": "329147c2-a8a4-48e8-e39e-f4de3f209ce8"
   },
   "outputs": [
    {
     "name": "stdout",
     "output_type": "stream",
     "text": [
      "<class 'pandas.core.frame.DataFrame'>\n",
      "RangeIndex: 9357 entries, 0 to 9356\n",
      "Data columns (total 15 columns):\n",
      " #   Column         Non-Null Count  Dtype  \n",
      "---  ------         --------------  -----  \n",
      " 0   Date           9357 non-null   object \n",
      " 1   Time           9357 non-null   object \n",
      " 2   CO(GT)         9357 non-null   float64\n",
      " 3   PT08.S1(CO)    9357 non-null   int64  \n",
      " 4   NMHC(GT)       9357 non-null   int64  \n",
      " 5   C6H6(GT)       9357 non-null   float64\n",
      " 6   PT08.S2(NMHC)  9357 non-null   int64  \n",
      " 7   NOx(GT)        9357 non-null   int64  \n",
      " 8   PT08.S3(NOx)   9357 non-null   int64  \n",
      " 9   NO2(GT)        9357 non-null   int64  \n",
      " 10  PT08.S4(NO2)   9357 non-null   int64  \n",
      " 11  PT08.S5(O3)    9357 non-null   int64  \n",
      " 12  T              9357 non-null   float64\n",
      " 13  RH             9357 non-null   float64\n",
      " 14  AH             9357 non-null   float64\n",
      "dtypes: float64(5), int64(8), object(2)\n",
      "memory usage: 1.1+ MB\n"
     ]
    }
   ],
   "source": [
    "df.info()"
   ]
  },
  {
   "cell_type": "code",
   "execution_count": 14,
   "metadata": {},
   "outputs": [
    {
     "name": "stderr",
     "output_type": "stream",
     "text": [
      "C:\\Users\\Admin\\AppData\\Local\\Temp\\ipykernel_2132\\3698961737.py:1: FutureWarning: Dropping of nuisance columns in DataFrame reductions (with 'numeric_only=None') is deprecated; in a future version this will raise TypeError.  Select only valid columns before calling the reduction.\n",
      "  df.mean()\n"
     ]
    },
    {
     "data": {
      "text/plain": [
       "CO(GT)            -34.207524\n",
       "PT08.S1(CO)      1048.990061\n",
       "NMHC(GT)         -159.090093\n",
       "C6H6(GT)            1.865683\n",
       "PT08.S2(NMHC)     894.595276\n",
       "NOx(GT)           168.616971\n",
       "PT08.S3(NOx)      794.990168\n",
       "NO2(GT)            58.148873\n",
       "PT08.S4(NO2)     1391.479641\n",
       "PT08.S5(O3)       975.072032\n",
       "T                   9.778305\n",
       "RH                 39.485380\n",
       "AH                 -6.837604\n",
       "dtype: float64"
      ]
     },
     "execution_count": 14,
     "metadata": {},
     "output_type": "execute_result"
    }
   ],
   "source": [
    "df.mean()"
   ]
  },
  {
   "cell_type": "code",
   "execution_count": 15,
   "metadata": {},
   "outputs": [
    {
     "data": {
      "text/plain": [
       "Date             01/01/2005\n",
       "Time                  00:00\n",
       "CO(GT)               -200.0\n",
       "PT08.S1(CO)            -200\n",
       "NMHC(GT)               -200\n",
       "C6H6(GT)             -200.0\n",
       "PT08.S2(NMHC)          -200\n",
       "NOx(GT)                -200\n",
       "PT08.S3(NOx)           -200\n",
       "NO2(GT)                -200\n",
       "PT08.S4(NO2)           -200\n",
       "PT08.S5(O3)            -200\n",
       "T                    -200.0\n",
       "RH                   -200.0\n",
       "AH                   -200.0\n",
       "dtype: object"
      ]
     },
     "execution_count": 15,
     "metadata": {},
     "output_type": "execute_result"
    }
   ],
   "source": [
    "df.min()"
   ]
  },
  {
   "cell_type": "code",
   "execution_count": 16,
   "metadata": {},
   "outputs": [
    {
     "data": {
      "text/plain": [
       "Date             31/12/2004\n",
       "Time                  23:00\n",
       "CO(GT)                 11.9\n",
       "PT08.S1(CO)            2040\n",
       "NMHC(GT)               1189\n",
       "C6H6(GT)               63.7\n",
       "PT08.S2(NMHC)          2214\n",
       "NOx(GT)                1479\n",
       "PT08.S3(NOx)           2683\n",
       "NO2(GT)                 340\n",
       "PT08.S4(NO2)           2775\n",
       "PT08.S5(O3)            2523\n",
       "T                      44.6\n",
       "RH                     88.7\n",
       "AH                    2.231\n",
       "dtype: object"
      ]
     },
     "execution_count": 16,
     "metadata": {},
     "output_type": "execute_result"
    }
   ],
   "source": [
    "df.max()"
   ]
  },
  {
   "cell_type": "code",
   "execution_count": 17,
   "metadata": {},
   "outputs": [
    {
     "data": {
      "text/plain": [
       "Date        Time   CO(GT)  PT08.S1(CO)  NMHC(GT)  C6H6(GT)  PT08.S2(NMHC)  NOx(GT)  PT08.S3(NOx)  NO2(GT)  PT08.S4(NO2)  PT08.S5(O3)  T     RH    AH    \n",
       "01/01/2005  00:00  -200.0  1046         -200      4.2       724            -200     848           -200     898           1201         8.2   40.1  0.4375    1\n",
       "21/06/2004  13:00   1.2    838          -200      7.2       868             66      1005           76      1454          540          30.1  18.5  0.7747    1\n",
       "21/05/2004  21:00   2.5    1241         -200      13.8      1110            147     772            130     1698          1177         22.3  32.1  0.8515    1\n",
       "            22:00   2.5    1274         -200      13.3      1094            160     771            126     1682          1231         20.5  35.9  0.8565    1\n",
       "            23:00   3.0    1321         -200      14.8      1144            162     732            127     1745          1243         19.8  37.2  0.8509    1\n",
       "                                                                                                                                                           ..\n",
       "11/06/2004  03:00   0.5    787          -200      2.5       620            -200     1176          -200     1403          618          22.7  43.8  1.1952    1\n",
       "            04:00   0.4    789          -200      2.6       623             36      1146           53      1407          663          22.0  44.3  1.1553    1\n",
       "            05:00   0.6    825          -200      4.0       709             68      1050           74      1491          813          19.3  51.4  1.1364    1\n",
       "            06:00   1.0    912          -200      7.0       858             92      923            69      1608          894          19.8  50.4  1.1525    1\n",
       "31/12/2004  23:00  -200.0  1003         -200      4.6       744            -200     882           -200     899           1138         7.8   38.4  0.4085    1\n",
       "Length: 9357, dtype: int64"
      ]
     },
     "execution_count": 17,
     "metadata": {},
     "output_type": "execute_result"
    }
   ],
   "source": [
    "df.value_counts()"
   ]
  },
  {
   "cell_type": "code",
   "execution_count": 18,
   "metadata": {},
   "outputs": [
    {
     "data": {
      "text/plain": [
       "Date             0\n",
       "Time             0\n",
       "CO(GT)           0\n",
       "PT08.S1(CO)      0\n",
       "NMHC(GT)         0\n",
       "C6H6(GT)         0\n",
       "PT08.S2(NMHC)    0\n",
       "NOx(GT)          0\n",
       "PT08.S3(NOx)     0\n",
       "NO2(GT)          0\n",
       "PT08.S4(NO2)     0\n",
       "PT08.S5(O3)      0\n",
       "T                0\n",
       "RH               0\n",
       "AH               0\n",
       "dtype: int64"
      ]
     },
     "execution_count": 18,
     "metadata": {},
     "output_type": "execute_result"
    }
   ],
   "source": [
    "df.isna().sum()"
   ]
  },
  {
   "cell_type": "code",
   "execution_count": 19,
   "metadata": {},
   "outputs": [
    {
     "data": {
      "text/plain": [
       "0       False\n",
       "1       False\n",
       "2       False\n",
       "3       False\n",
       "4       False\n",
       "        ...  \n",
       "9352    False\n",
       "9353    False\n",
       "9354    False\n",
       "9355    False\n",
       "9356    False\n",
       "Length: 9357, dtype: bool"
      ]
     },
     "execution_count": 19,
     "metadata": {},
     "output_type": "execute_result"
    }
   ],
   "source": [
    "df.duplicated()"
   ]
  },
  {
   "cell_type": "code",
   "execution_count": 20,
   "metadata": {},
   "outputs": [
    {
     "data": {
      "text/plain": [
       "array([[<AxesSubplot:title={'center':'CO(GT)'}>,\n",
       "        <AxesSubplot:title={'center':'PT08.S1(CO)'}>,\n",
       "        <AxesSubplot:title={'center':'NMHC(GT)'}>,\n",
       "        <AxesSubplot:title={'center':'C6H6(GT)'}>],\n",
       "       [<AxesSubplot:title={'center':'PT08.S2(NMHC)'}>,\n",
       "        <AxesSubplot:title={'center':'NOx(GT)'}>,\n",
       "        <AxesSubplot:title={'center':'PT08.S3(NOx)'}>,\n",
       "        <AxesSubplot:title={'center':'NO2(GT)'}>],\n",
       "       [<AxesSubplot:title={'center':'PT08.S4(NO2)'}>,\n",
       "        <AxesSubplot:title={'center':'PT08.S5(O3)'}>,\n",
       "        <AxesSubplot:title={'center':'T'}>,\n",
       "        <AxesSubplot:title={'center':'RH'}>],\n",
       "       [<AxesSubplot:title={'center':'AH'}>, <AxesSubplot:>,\n",
       "        <AxesSubplot:>, <AxesSubplot:>]], dtype=object)"
      ]
     },
     "execution_count": 20,
     "metadata": {},
     "output_type": "execute_result"
    },
    {
     "data": {
      "image/png": "[encoded data removed]",
      "text/plain": [
       "<Figure size 432x288 with 16 Axes>"
      ]
     },
     "metadata": {
      "needs_background": "light"
     },
     "output_type": "display_data"
    }
   ],
   "source": [
    "df.hist()"
   ]
  },
  {
   "cell_type": "code",
   "execution_count": 21,
   "metadata": {
    "colab": {
     "base_uri": "https://localhost:8080/",
     "height": 313
    },
    "id": "TIdUm7wH-xYI",
    "outputId": "b8c96bdd-300c-4e6b-9e71-891060089653",
    "scrolled": false
   },
   "outputs": [
    {
     "data": {
      "image/png": "[encoded data removed]",
      "text/plain": [
       "<Figure size 432x288 with 1 Axes>"
      ]
     },
     "metadata": {
      "needs_background": "light"
     },
     "output_type": "display_data"
    }
   ],
   "source": [
    "plt.scatter(df['Time'][-39:-11],df['NO2(GT)'][-39:-11])\n",
    "plt.scatter(df['Time'][-39:-11],df['NOx(GT)'][-39:-11])\n",
    "plt.title('Kandungan Nitrogen pada 3 April 2005')\n",
    "plt.xticks(rotation=90)\n",
    "plt.show()"
   ]
  },
  {
   "cell_type": "code",
   "execution_count": 22,
   "metadata": {},
   "outputs": [
    {
     "data": {
      "text/html": [
       "<div>\n",
       "<style scoped>\n",
       "    .dataframe tbody tr th:only-of-type {\n",
       "        vertical-align: middle;\n",
       "    }\n",
       "\n",
       "    .dataframe tbody tr th {\n",
       "        vertical-align: top;\n",
       "    }\n",
       "\n",
       "    .dataframe thead th {\n",
       "        text-align: right;\n",
       "    }\n",
       "</style>\n",
       "<table border=\"1\" class=\"dataframe\">\n",
       "  <thead>\n",
       "    <tr style=\"text-align: right;\">\n",
       "      <th></th>\n",
       "      <th>CO(GT)</th>\n",
       "      <th>PT08.S1(CO)</th>\n",
       "      <th>NMHC(GT)</th>\n",
       "      <th>C6H6(GT)</th>\n",
       "      <th>PT08.S2(NMHC)</th>\n",
       "      <th>NOx(GT)</th>\n",
       "      <th>PT08.S3(NOx)</th>\n",
       "      <th>NO2(GT)</th>\n",
       "      <th>PT08.S4(NO2)</th>\n",
       "      <th>PT08.S5(O3)</th>\n",
       "      <th>T</th>\n",
       "      <th>RH</th>\n",
       "      <th>AH</th>\n",
       "    </tr>\n",
       "  </thead>\n",
       "  <tbody>\n",
       "    <tr>\n",
       "      <th>CO(GT)</th>\n",
       "      <td>1.000000</td>\n",
       "      <td>0.041411</td>\n",
       "      <td>0.128351</td>\n",
       "      <td>-0.031378</td>\n",
       "      <td>0.029926</td>\n",
       "      <td>0.526451</td>\n",
       "      <td>-0.089981</td>\n",
       "      <td>0.671127</td>\n",
       "      <td>-0.073724</td>\n",
       "      <td>0.080310</td>\n",
       "      <td>-0.068939</td>\n",
       "      <td>-0.048227</td>\n",
       "      <td>-0.045892</td>\n",
       "    </tr>\n",
       "    <tr>\n",
       "      <th>PT08.S1(CO)</th>\n",
       "      <td>0.041411</td>\n",
       "      <td>1.000000</td>\n",
       "      <td>0.170007</td>\n",
       "      <td>0.852687</td>\n",
       "      <td>0.933102</td>\n",
       "      <td>0.277993</td>\n",
       "      <td>0.087019</td>\n",
       "      <td>0.154030</td>\n",
       "      <td>0.845149</td>\n",
       "      <td>0.892434</td>\n",
       "      <td>0.754844</td>\n",
       "      <td>0.745375</td>\n",
       "      <td>0.764903</td>\n",
       "    </tr>\n",
       "    <tr>\n",
       "      <th>NMHC(GT)</th>\n",
       "      <td>0.128351</td>\n",
       "      <td>0.170007</td>\n",
       "      <td>1.000000</td>\n",
       "      <td>0.037323</td>\n",
       "      <td>0.110104</td>\n",
       "      <td>-0.004427</td>\n",
       "      <td>0.048821</td>\n",
       "      <td>0.103307</td>\n",
       "      <td>0.162680</td>\n",
       "      <td>0.101185</td>\n",
       "      <td>-0.000009</td>\n",
       "      <td>0.008284</td>\n",
       "      <td>0.012500</td>\n",
       "    </tr>\n",
       "    <tr>\n",
       "      <th>C6H6(GT)</th>\n",
       "      <td>-0.031378</td>\n",
       "      <td>0.852687</td>\n",
       "      <td>0.037323</td>\n",
       "      <td>1.000000</td>\n",
       "      <td>0.767433</td>\n",
       "      <td>-0.001174</td>\n",
       "      <td>0.512193</td>\n",
       "      <td>-0.010992</td>\n",
       "      <td>0.774673</td>\n",
       "      <td>0.641334</td>\n",
       "      <td>0.971375</td>\n",
       "      <td>0.925062</td>\n",
       "      <td>0.984555</td>\n",
       "    </tr>\n",
       "    <tr>\n",
       "      <th>PT08.S2(NMHC)</th>\n",
       "      <td>0.029926</td>\n",
       "      <td>0.933102</td>\n",
       "      <td>0.110104</td>\n",
       "      <td>0.767433</td>\n",
       "      <td>1.000000</td>\n",
       "      <td>0.331272</td>\n",
       "      <td>-0.073667</td>\n",
       "      <td>0.176488</td>\n",
       "      <td>0.874782</td>\n",
       "      <td>0.909905</td>\n",
       "      <td>0.669025</td>\n",
       "      <td>0.585803</td>\n",
       "      <td>0.646572</td>\n",
       "    </tr>\n",
       "    <tr>\n",
       "      <th>NOx(GT)</th>\n",
       "      <td>0.526451</td>\n",
       "      <td>0.277993</td>\n",
       "      <td>-0.004427</td>\n",
       "      <td>-0.001174</td>\n",
       "      <td>0.331272</td>\n",
       "      <td>1.000000</td>\n",
       "      <td>-0.436084</td>\n",
       "      <td>0.817139</td>\n",
       "      <td>0.035546</td>\n",
       "      <td>0.461889</td>\n",
       "      <td>-0.138452</td>\n",
       "      <td>-0.053009</td>\n",
       "      <td>-0.095847</td>\n",
       "    </tr>\n",
       "    <tr>\n",
       "      <th>PT08.S3(NOx)</th>\n",
       "      <td>-0.089981</td>\n",
       "      <td>0.087019</td>\n",
       "      <td>0.048821</td>\n",
       "      <td>0.512193</td>\n",
       "      <td>-0.073667</td>\n",
       "      <td>-0.436084</td>\n",
       "      <td>1.000000</td>\n",
       "      <td>-0.256232</td>\n",
       "      <td>0.122734</td>\n",
       "      <td>-0.208865</td>\n",
       "      <td>0.588111</td>\n",
       "      <td>0.573549</td>\n",
       "      <td>0.621618</td>\n",
       "    </tr>\n",
       "    <tr>\n",
       "      <th>NO2(GT)</th>\n",
       "      <td>0.671127</td>\n",
       "      <td>0.154030</td>\n",
       "      <td>0.103307</td>\n",
       "      <td>-0.010992</td>\n",
       "      <td>0.176488</td>\n",
       "      <td>0.817139</td>\n",
       "      <td>-0.256232</td>\n",
       "      <td>1.000000</td>\n",
       "      <td>-0.022174</td>\n",
       "      <td>0.253439</td>\n",
       "      <td>-0.084104</td>\n",
       "      <td>-0.081305</td>\n",
       "      <td>-0.060440</td>\n",
       "    </tr>\n",
       "    <tr>\n",
       "      <th>PT08.S4(NO2)</th>\n",
       "      <td>-0.073724</td>\n",
       "      <td>0.845149</td>\n",
       "      <td>0.162680</td>\n",
       "      <td>0.774673</td>\n",
       "      <td>0.874782</td>\n",
       "      <td>0.035546</td>\n",
       "      <td>0.122734</td>\n",
       "      <td>-0.022174</td>\n",
       "      <td>1.000000</td>\n",
       "      <td>0.723690</td>\n",
       "      <td>0.755060</td>\n",
       "      <td>0.640707</td>\n",
       "      <td>0.691913</td>\n",
       "    </tr>\n",
       "    <tr>\n",
       "      <th>PT08.S5(O3)</th>\n",
       "      <td>0.080310</td>\n",
       "      <td>0.892434</td>\n",
       "      <td>0.101185</td>\n",
       "      <td>0.641334</td>\n",
       "      <td>0.909905</td>\n",
       "      <td>0.461889</td>\n",
       "      <td>-0.208865</td>\n",
       "      <td>0.253439</td>\n",
       "      <td>0.723690</td>\n",
       "      <td>1.000000</td>\n",
       "      <td>0.503700</td>\n",
       "      <td>0.524955</td>\n",
       "      <td>0.519467</td>\n",
       "    </tr>\n",
       "    <tr>\n",
       "      <th>T</th>\n",
       "      <td>-0.068939</td>\n",
       "      <td>0.754844</td>\n",
       "      <td>-0.000009</td>\n",
       "      <td>0.971375</td>\n",
       "      <td>0.669025</td>\n",
       "      <td>-0.138452</td>\n",
       "      <td>0.588111</td>\n",
       "      <td>-0.084104</td>\n",
       "      <td>0.755060</td>\n",
       "      <td>0.503700</td>\n",
       "      <td>1.000000</td>\n",
       "      <td>0.885911</td>\n",
       "      <td>0.981001</td>\n",
       "    </tr>\n",
       "    <tr>\n",
       "      <th>RH</th>\n",
       "      <td>-0.048227</td>\n",
       "      <td>0.745375</td>\n",
       "      <td>0.008284</td>\n",
       "      <td>0.925062</td>\n",
       "      <td>0.585803</td>\n",
       "      <td>-0.053009</td>\n",
       "      <td>0.573549</td>\n",
       "      <td>-0.081305</td>\n",
       "      <td>0.640707</td>\n",
       "      <td>0.524955</td>\n",
       "      <td>0.885911</td>\n",
       "      <td>1.000000</td>\n",
       "      <td>0.943995</td>\n",
       "    </tr>\n",
       "    <tr>\n",
       "      <th>AH</th>\n",
       "      <td>-0.045892</td>\n",
       "      <td>0.764903</td>\n",
       "      <td>0.012500</td>\n",
       "      <td>0.984555</td>\n",
       "      <td>0.646572</td>\n",
       "      <td>-0.095847</td>\n",
       "      <td>0.621618</td>\n",
       "      <td>-0.060440</td>\n",
       "      <td>0.691913</td>\n",
       "      <td>0.519467</td>\n",
       "      <td>0.981001</td>\n",
       "      <td>0.943995</td>\n",
       "      <td>1.000000</td>\n",
       "    </tr>\n",
       "  </tbody>\n",
       "</table>\n",
       "</div>"
      ],
      "text/plain": [
       "                 CO(GT)  PT08.S1(CO)  NMHC(GT)  C6H6(GT)  PT08.S2(NMHC)  \\\n",
       "CO(GT)         1.000000     0.041411  0.128351 -0.031378       0.029926   \n",
       "PT08.S1(CO)    0.041411     1.000000  0.170007  0.852687       0.933102   \n",
       "NMHC(GT)       0.128351     0.170007  1.000000  0.037323       0.110104   \n",
       "C6H6(GT)      -0.031378     0.852687  0.037323  1.000000       0.767433   \n",
       "PT08.S2(NMHC)  0.029926     0.933102  0.110104  0.767433       1.000000   \n",
       "NOx(GT)        0.526451     0.277993 -0.004427 -0.001174       0.331272   \n",
       "PT08.S3(NOx)  -0.089981     0.087019  0.048821  0.512193      -0.073667   \n",
       "NO2(GT)        0.671127     0.154030  0.103307 -0.010992       0.176488   \n",
       "PT08.S4(NO2)  -0.073724     0.845149  0.162680  0.774673       0.874782   \n",
       "PT08.S5(O3)    0.080310     0.892434  0.101185  0.641334       0.909905   \n",
       "T             -0.068939     0.754844 -0.000009  0.971375       0.669025   \n",
       "RH            -0.048227     0.745375  0.008284  0.925062       0.585803   \n",
       "AH            -0.045892     0.764903  0.012500  0.984555       0.646572   \n",
       "\n",
       "                NOx(GT)  PT08.S3(NOx)   NO2(GT)  PT08.S4(NO2)  PT08.S5(O3)  \\\n",
       "CO(GT)         0.526451     -0.089981  0.671127     -0.073724     0.080310   \n",
       "PT08.S1(CO)    0.277993      0.087019  0.154030      0.845149     0.892434   \n",
       "NMHC(GT)      -0.004427      0.048821  0.103307      0.162680     0.101185   \n",
       "C6H6(GT)      -0.001174      0.512193 -0.010992      0.774673     0.641334   \n",
       "PT08.S2(NMHC)  0.331272     -0.073667  0.176488      0.874782     0.909905   \n",
       "NOx(GT)        1.000000     -0.436084  0.817139      0.035546     0.461889   \n",
       "PT08.S3(NOx)  -0.436084      1.000000 -0.256232      0.122734    -0.208865   \n",
       "NO2(GT)        0.817139     -0.256232  1.000000     -0.022174     0.253439   \n",
       "PT08.S4(NO2)   0.035546      0.122734 -0.022174      1.000000     0.723690   \n",
       "PT08.S5(O3)    0.461889     -0.208865  0.253439      0.723690     1.000000   \n",
       "T             -0.138452      0.588111 -0.084104      0.755060     0.503700   \n",
       "RH            -0.053009      0.573549 -0.081305      0.640707     0.524955   \n",
       "AH            -0.095847      0.621618 -0.060440      0.691913     0.519467   \n",
       "\n",
       "                      T        RH        AH  \n",
       "CO(GT)        -0.068939 -0.048227 -0.045892  \n",
       "PT08.S1(CO)    0.754844  0.745375  0.764903  \n",
       "NMHC(GT)      -0.000009  0.008284  0.012500  \n",
       "C6H6(GT)       0.971375  0.925062  0.984555  \n",
       "PT08.S2(NMHC)  0.669025  0.585803  0.646572  \n",
       "NOx(GT)       -0.138452 -0.053009 -0.095847  \n",
       "PT08.S3(NOx)   0.588111  0.573549  0.621618  \n",
       "NO2(GT)       -0.084104 -0.081305 -0.060440  \n",
       "PT08.S4(NO2)   0.755060  0.640707  0.691913  \n",
       "PT08.S5(O3)    0.503700  0.524955  0.519467  \n",
       "T              1.000000  0.885911  0.981001  \n",
       "RH             0.885911  1.000000  0.943995  \n",
       "AH             0.981001  0.943995  1.000000  "
      ]
     },
     "execution_count": 22,
     "metadata": {},
     "output_type": "execute_result"
    }
   ],
   "source": [
    "df.corr()"
   ]
  },
  {
   "cell_type": "code",
   "execution_count": 23,
   "metadata": {
    "colab": {
     "base_uri": "https://localhost:8080/",
     "height": 286
    },
    "id": "Aq3x6D7Y_eEh",
    "outputId": "0907bc93-f14a-4a95-93cb-4c4bf84c5b97"
   },
   "outputs": [
    {
     "data": {
      "text/plain": [
       "<AxesSubplot:>"
      ]
     },
     "execution_count": 23,
     "metadata": {},
     "output_type": "execute_result"
    },
    {
     "data": {
      "image/png": "[encoded data removed]",
      "text/plain": [
       "<Figure size 432x288 with 2 Axes>"
      ]
     },
     "metadata": {
      "needs_background": "light"
     },
     "output_type": "display_data"
    }
   ],
   "source": [
    "corr = df.corr()\n",
    "sns.heatmap(corr,annot=True,fmt = '.2f')"
   ]
  },
  {
   "cell_type": "code",
   "execution_count": 24,
   "metadata": {
    "id": "6ej0KOlfviOg"
   },
   "outputs": [
    {
     "name": "stdout",
     "output_type": "stream",
     "text": [
      "[[1.        0.8171391]\n",
      " [0.8171391 1.       ]]\n"
     ]
    }
   ],
   "source": [
    "print(np.corrcoef(df['NO2(GT)'], df['NOx(GT)']))"
   ]
  },
  {
   "cell_type": "code",
   "execution_count": 25,
   "metadata": {},
   "outputs": [],
   "source": [
    "np.random.seed(42)\n",
    "split = np.random.rand(len(df)) < 0.8\n",
    "air = df[split]\n",
    "test = df[~split]"
   ]
  },
  {
   "cell_type": "code",
   "execution_count": 26,
   "metadata": {},
   "outputs": [],
   "source": [
    "x_air = np.asanyarray(air[['NO2(GT)']])\n",
    "y_air = np.asanyarray(air[['NOx(GT)']])\n",
    "x_test = np.asanyarray(test[['NO2(GT)']])\n",
    "y_test = np.asanyarray(test[['NOx(GT)']])"
   ]
  },
  {
   "cell_type": "code",
   "execution_count": 27,
   "metadata": {
    "id": "_r9eebL1_36f"
   },
   "outputs": [
    {
     "data": {
      "text/html": [
       "<style>#sk-container-id-1 {color: black;background-color: white;}#sk-container-id-1 pre{padding: 0;}#sk-container-id-1 div.sk-toggleable {background-color: white;}#sk-container-id-1 label.sk-toggleable__label {cursor: pointer;display: block;width: 100%;margin-bottom: 0;padding: 0.3em;box-sizing: border-box;text-align: center;}#sk-container-id-1 label.sk-toggleable__label-arrow:before {content: \"▸\";float: left;margin-right: 0.25em;color: #696969;}#sk-container-id-1 label.sk-toggleable__label-arrow:hover:before {color: black;}#sk-container-id-1 div.sk-estimator:hover label.sk-toggleable__label-arrow:before {color: black;}#sk-container-id-1 div.sk-toggleable__content {max-height: 0;max-width: 0;overflow: hidden;text-align: left;background-color: #f0f8ff;}#sk-container-id-1 div.sk-toggleable__content pre {margin: 0.2em;color: black;border-radius: 0.25em;background-color: #f0f8ff;}#sk-container-id-1 input.sk-toggleable__control:checked~div.sk-toggleable__content {max-height: 200px;max-width: 100%;overflow: auto;}#sk-container-id-1 input.sk-toggleable__control:checked~label.sk-toggleable__label-arrow:before {content: \"▾\";}#sk-container-id-1 div.sk-estimator input.sk-toggleable__control:checked~label.sk-toggleable__label {background-color: #d4ebff;}#sk-container-id-1 div.sk-label input.sk-toggleable__control:checked~label.sk-toggleable__label {background-color: #d4ebff;}#sk-container-id-1 input.sk-hidden--visually {border: 0;clip: rect(1px 1px 1px 1px);clip: rect(1px, 1px, 1px, 1px);height: 1px;margin: -1px;overflow: hidden;padding: 0;position: absolute;width: 1px;}#sk-container-id-1 div.sk-estimator {font-family: monospace;background-color: #f0f8ff;border: 1px dotted black;border-radius: 0.25em;box-sizing: border-box;margin-bottom: 0.5em;}#sk-container-id-1 div.sk-estimator:hover {background-color: #d4ebff;}#sk-container-id-1 div.sk-parallel-item::after {content: \"\";width: 100%;border-bottom: 1px solid gray;flex-grow: 1;}#sk-container-id-1 div.sk-label:hover label.sk-toggleable__label {background-color: #d4ebff;}#sk-container-id-1 div.sk-serial::before {content: \"\";position: absolute;border-left: 1px solid gray;box-sizing: border-box;top: 0;bottom: 0;left: 50%;z-index: 0;}#sk-container-id-1 div.sk-serial {display: flex;flex-direction: column;align-items: center;background-color: white;padding-right: 0.2em;padding-left: 0.2em;position: relative;}#sk-container-id-1 div.sk-item {position: relative;z-index: 1;}#sk-container-id-1 div.sk-parallel {display: flex;align-items: stretch;justify-content: center;background-color: white;position: relative;}#sk-container-id-1 div.sk-item::before, #sk-container-id-1 div.sk-parallel-item::before {content: \"\";position: absolute;border-left: 1px solid gray;box-sizing: border-box;top: 0;bottom: 0;left: 50%;z-index: -1;}#sk-container-id-1 div.sk-parallel-item {display: flex;flex-direction: column;z-index: 1;position: relative;background-color: white;}#sk-container-id-1 div.sk-parallel-item:first-child::after {align-self: flex-end;width: 50%;}#sk-container-id-1 div.sk-parallel-item:last-child::after {align-self: flex-start;width: 50%;}#sk-container-id-1 div.sk-parallel-item:only-child::after {width: 0;}#sk-container-id-1 div.sk-dashed-wrapped {border: 1px dashed gray;margin: 0 0.4em 0.5em 0.4em;box-sizing: border-box;padding-bottom: 0.4em;background-color: white;}#sk-container-id-1 div.sk-label label {font-family: monospace;font-weight: bold;display: inline-block;line-height: 1.2em;}#sk-container-id-1 div.sk-label-container {text-align: center;}#sk-container-id-1 div.sk-container {/* jupyter's `normalize.less` sets `[hidden] { display: none; }` but bootstrap.min.css set `[hidden] { display: none !important; }` so we also need the `!important` here to be able to override the default hidden behavior on the sphinx rendered scikit-learn.org. See: https://github.com/scikit-learn/scikit-learn/issues/21755 */display: inline-block !important;position: relative;}#sk-container-id-1 div.sk-text-repr-fallback {display: none;}</style><div id=\"sk-container-id-1\" class=\"sk-top-container\"><div class=\"sk-text-repr-fallback\"><pre>LinearRegression()</pre><b>In a Jupyter environment, please rerun this cell to show the HTML representation or trust the notebook. <br />On GitHub, the HTML representation is unable to render, please try loading this page with nbviewer.org.</b></div><div class=\"sk-container\" hidden><div class=\"sk-item\"><div class=\"sk-estimator sk-toggleable\"><input class=\"sk-toggleable__control sk-hidden--visually\" id=\"sk-estimator-id-1\" type=\"checkbox\" checked><label for=\"sk-estimator-id-1\" class=\"sk-toggleable__label sk-toggleable__label-arrow\">LinearRegression</label><div class=\"sk-toggleable__content\"><pre>LinearRegression()</pre></div></div></div></div></div>"
      ],
      "text/plain": [
       "LinearRegression()"
      ]
     },
     "execution_count": 27,
     "metadata": {},
     "output_type": "execute_result"
    }
   ],
   "source": [
    "from sklearn.linear_model import LinearRegression\n",
    "lr_model = LinearRegression()\n",
    "lr_model.fit(x_air,y_air)"
   ]
  },
  {
   "cell_type": "code",
   "execution_count": 28,
   "metadata": {},
   "outputs": [
    {
     "name": "stdout",
     "output_type": "stream",
     "text": [
      "Intercept: [72.05421264]\n",
      "Coefficient: [[1.65715101]]\n",
      "predicted X response:\n",
      "[[259.31227669]\n",
      " [260.9694277 ]\n",
      " [274.22663577]\n",
      " ...\n",
      " [368.6842433 ]\n",
      " [362.05563927]\n",
      " [330.56977009]]\n",
      "predicted Y response:\n",
      "[[347.14128018]\n",
      " [289.14099486]\n",
      " [357.08418624]\n",
      " ...\n",
      " [657.02851892]\n",
      " [557.59945836]\n",
      " [461.48469982]]\n"
     ]
    }
   ],
   "source": [
    "print(f\"Intercept: {lr_model.intercept_}\")\n",
    "print(f\"Coefficient: {lr_model.coef_}\")\n",
    "print(f\"predicted X response:\\n{lr_model.predict(x_air)}\")\n",
    "print(f\"predicted Y response:\\n{lr_model.predict(y_air)}\")"
   ]
  },
  {
   "cell_type": "code",
   "execution_count": 29,
   "metadata": {},
   "outputs": [
    {
     "name": "stdout",
     "output_type": "stream",
     "text": [
      "Mean Absolute Error (MAE): 110.42036562644047\n",
      "Mean Squared Error (MSE): 22057.691480831272\n"
     ]
    }
   ],
   "source": [
    "from sklearn.metrics import mean_absolute_error,mean_squared_error\n",
    "print(f\"Mean Absolute Error (MAE): {mean_absolute_error(lr_model.predict(x_air),y_air)}\")\n",
    "print(f\"Mean Squared Error (MSE): {mean_squared_error(lr_model.predict(x_air),y_air)}\")"
   ]
  },
  {
   "cell_type": "code",
   "execution_count": 30,
   "metadata": {},
   "outputs": [
    {
     "data": {
      "image/png": "[encoded data removed]",
      "text/plain": [
       "<Figure size 432x288 with 1 Axes>"
      ]
     },
     "metadata": {
      "needs_background": "light"
     },
     "output_type": "display_data"
    }
   ],
   "source": [
    "plt.scatter(x_air,y_air,color='g')\n",
    "plt.plot(x_air,lr_model.predict(x_air),'-r')\n",
    "plt.show()"
   ]
  }
 ],
 "metadata": {
  "colab": {
   "collapsed_sections": [],
   "name": "Untitled0.ipynb",
   "provenance": [],
   "toc_visible": true
  },
  "kernelspec": {
   "display_name": "Python 3 (ipykernel)",
   "language": "python",
   "name": "python3"
  },
  "language_info": {
   "codemirror_mode": {
    "name": "ipython",
    "version": 3
   },
   "file_extension": ".py",
   "mimetype": "text/x-python",
   "name": "python",
   "nbconvert_exporter": "python",
   "pygments_lexer": "ipython3",
   "version": "3.10.4"
  }
 },
 "nbformat": 4,
 "nbformat_minor": 1
}
